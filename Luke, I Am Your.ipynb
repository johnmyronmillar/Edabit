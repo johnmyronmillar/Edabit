{
 "cells": [
  {
   "cell_type": "code",
   "execution_count": null,
   "metadata": {},
   "outputs": [],
   "source": [
    "# Luke Skywalker has family and friends. \n",
    "# Help him remind them who is who. \n",
    "# Given a string with a name, return the relation of that person to Luke.\n",
    "\n",
    "# Person\tRelation\n",
    "# Darth Vader\tfather\n",
    "# Leia\tsister\n",
    "# Han\tbrother in law\n",
    "# R2D2\tdroid"
   ]
  },
  {
   "cell_type": "code",
   "execution_count": 1,
   "metadata": {},
   "outputs": [
    {
     "name": "stdout",
     "output_type": "stream",
     "text": [
      "        Person        Relation\n",
      "0  Darth Vader          father\n",
      "1         Leia          sister\n",
      "2          Han  brother in law\n",
      "3         R2D2           droid\n"
     ]
    }
   ],
   "source": [
    "# Python code demonstrate creating  \n",
    "# DataFrame from dict narray / lists  \n",
    "# By default addresses. \n",
    "  \n",
    "import pandas as pd \n",
    "  \n",
    "# intialise data of lists. \n",
    "data = {'Person':['Darth Vader', 'Leia', 'Han', 'R2D2'], 'Relation':['father', 'sister', 'brother in law', 'droid']} \n",
    "  \n",
    "# Create DataFrame \n",
    "df = pd.DataFrame(data) \n",
    "  \n",
    "# Print the output. \n",
    "print(df) "
   ]
  },
  {
   "cell_type": "code",
   "execution_count": 2,
   "metadata": {},
   "outputs": [],
   "source": [
    "dict = {'Darth Vader':'father', 'Leia':'sister', 'Han':'brother in law', 'R2D2':'droid'}"
   ]
  },
  {
   "cell_type": "code",
   "execution_count": 14,
   "metadata": {},
   "outputs": [],
   "source": [
    "def relation_to_luke(name):\n",
    "    dict = {'Darth Vader':'father', 'Leia':'sister', 'Han':'brother in law', 'R2D2':'droid'}\n",
    "    answer = dict[name]\n",
    "    saying = \"Luke, I am your %s.\" % answer\n",
    "    return saying"
   ]
  },
  {
   "cell_type": "code",
   "execution_count": 15,
   "metadata": {},
   "outputs": [
    {
     "data": {
      "text/plain": [
       "'Luke, I am your father.'"
      ]
     },
     "execution_count": 15,
     "metadata": {},
     "output_type": "execute_result"
    }
   ],
   "source": [
    "relation_to_luke('Darth Vader')"
   ]
  },
  {
   "cell_type": "code",
   "execution_count": null,
   "metadata": {},
   "outputs": [],
   "source": []
  }
 ],
 "metadata": {
  "kernelspec": {
   "display_name": "Python 3",
   "language": "python",
   "name": "python3"
  },
  "language_info": {
   "codemirror_mode": {
    "name": "ipython",
    "version": 3
   },
   "file_extension": ".py",
   "mimetype": "text/x-python",
   "name": "python",
   "nbconvert_exporter": "python",
   "pygments_lexer": "ipython3",
   "version": "3.7.6"
  }
 },
 "nbformat": 4,
 "nbformat_minor": 4
}
